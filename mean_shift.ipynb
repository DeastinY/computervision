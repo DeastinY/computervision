{
 "cells": [
  {
   "cell_type": "markdown",
   "metadata": {},
   "source": [
    "# Mean Shift\n",
    "#### Basic Implementation\n",
    "The following two functions find_peak and meanshift execute the basic mean shift algorithm."
   ]
  },
  {
   "cell_type": "code",
   "execution_count": 334,
   "metadata": {
    "collapsed": true
   },
   "outputs": [],
   "source": [
    "import cv2\n",
    "import math\n",
    "import matplotlib.pyplot as plt\n",
    "import matplotlib.pylab as pylab\n",
    "from mpl_toolkits.mplot3d import Axes3D\n",
    "import numpy as np\n",
    "from scipy.io import loadmat\n",
    "from scipy import spatial\n",
    "from sklearn.datasets import *\n",
    "from IPython.core.display import clear_output\n",
    "from util import log_progress\n",
    "%matplotlib inline\n",
    "pylab.rcParams['figure.figsize'] = 16, 12"
   ]
  },
  {
   "cell_type": "markdown",
   "metadata": {},
   "source": [
    "##### Load  and visualize sample data\n",
    "The matrix is loaded into a numpy array of dimensions (2000, 3)"
   ]
  },
  {
   "cell_type": "code",
   "execution_count": 335,
   "metadata": {},
   "outputs": [],
   "source": [
    "SAMPLE_DATA = loadmat(\"pts.mat\")['data']\n",
    "if False:  # Set to true to show the data\n",
    "    fig = plt.figure(figsize=(6, 6))\n",
    "    ax = fig.add_subplot(111, projection=\"3d\")\n",
    "    ax.scatter(SAMPLE_DATA[0], SAMPLE_DATA[1], SAMPLE_DATA[2])"
   ]
  },
  {
   "cell_type": "markdown",
   "metadata": {},
   "source": [
    "##### Utility functions\n"
   ]
  },
  {
   "cell_type": "code",
   "execution_count": 336,
   "metadata": {
    "collapsed": true
   },
   "outputs": [],
   "source": [
    "cached_tree = None\n",
    "def get_neighbours(data, point, r):\n",
    "    global cached_tree\n",
    "    tree = spatial.KDTree(data) if cached_tree is None else cached_tree\n",
    "    ret = []\n",
    "    return data[tree.query_ball_point(point, r)]\n",
    "\n",
    "def get_neighbours_cdist(data, point, r):\n",
    "    ret = []\n",
    "    for i, d in enumerate(spatial.distance.cdist(np.array([point]), data)[0]):\n",
    "        if d < r:\n",
    "            ret.append(data[i])\n",
    "    return np.array(ret)"
   ]
  },
  {
   "cell_type": "code",
   "execution_count": 337,
   "metadata": {},
   "outputs": [],
   "source": [
    "def find_peak(data, point, r, t = 0.01):\n",
    "    def calc_new_shift(data, point, r):\n",
    "        neighbours = get_neighbours(data, point, r)\n",
    "        return neighbours.mean(axis=0)\n",
    "    \n",
    "    dist = None\n",
    "    last_peak = calc_new_shift(data, point, r)\n",
    "    while dist is None or dist >= t:\n",
    "        peak = calc_new_shift(data, point, r)\n",
    "        dist = spatial.distance.euclidean(peak, last_peak)\n",
    "        last_peak = peak\n",
    "    return peak\n",
    "\n",
    "def meanshift(data, r):\n",
    "    peaks, points, point_peaks = [], [], []\n",
    "    for point in log_progress(data, 1, len(data)):\n",
    "        peak = find_peak(data, point, r)\n",
    "        # Match peak to possible neighbours. Use cdist because we have only few peaks\n",
    "        neighbours = get_neighbours_cdist(np.array(peaks), peak, r/2.) if len(peaks) > 0 else []\n",
    "        if len(neighbours) > 1:\n",
    "            peak = neighbours[0]\n",
    "        else:\n",
    "            peaks.append(peak)\n",
    "        points.append(point)\n",
    "        point_peaks.append(np.where(peaks==peak))\n",
    "    return np.array(peaks), np.array(points), np.array(point_peaks)"
   ]
  },
  {
   "cell_type": "code",
   "execution_count": 345,
   "metadata": {},
   "outputs": [],
   "source": [
    "def find_peak_opt(data, point, r, t = 0.01):\n",
    "    def calc_new_shift(data, point, r):\n",
    "        neighbours = get_neighbours(data, point, r)\n",
    "        return neighbours.mean(axis=0)\n",
    "    \n",
    "    dist = None\n",
    "    last_peak = calc_new_shift(data, point, r)\n",
    "    while dist is None or dist >= t:\n",
    "        peak = calc_new_shift(data, point, r)\n",
    "        dist = spatial.distance.euclidean(peak, last_peak)\n",
    "        last_peak = peak\n",
    "    return peak\n",
    "\n",
    "def meanshift_opt(data, r):\n",
    "    peaks, points, point_peaks = [], [], []\n",
    "    for point in log_progress(data, 1, len(data)):\n",
    "        if np.any(np.where(np.array(points)==point)):\n",
    "            continue\n",
    "        peak = find_peak(data, point, r)\n",
    "        # Match peak to possible neighbours. Use cdist because we have only few peaks\n",
    "        neighbours = get_neighbours_cdist(np.array(peaks), peak, r/2.) if len(peaks) > 0 else []\n",
    "        if len(neighbours) > 1:\n",
    "            peak = neighbours[0]\n",
    "        else:\n",
    "            peaks.append(peak)\n",
    "        # Basin of Attraction\n",
    "        boa = get_neighbours(data, peak, r)\n",
    "        for p in boa:\n",
    "            idx = 0\n",
    "            if not np.any(np.where(points == p)):\n",
    "                idx+=1\n",
    "                points.append(p)\n",
    "                point_peaks.append(np.where(peaks==peak))\n",
    "    return np.array(peaks), np.array(points), np.array(point_peaks)"
   ]
  },
  {
   "cell_type": "markdown",
   "metadata": {},
   "source": [
    "##### Execute the meanshift function\n",
    "Visualize the results"
   ]
  },
  {
   "cell_type": "code",
   "execution_count": 339,
   "metadata": {
    "collapsed": true
   },
   "outputs": [],
   "source": [
    "def visualize(image, r, func):\n",
    "    peaks, points, point_peaks = func(image, r)\n",
    "    print(\"Found {} peaks in {} points !\".format(len(peaks), len(points),))\n",
    "    fig = plt.figure(figsize=(20, 20))\n",
    "    ax = fig.add_subplot(111, projection=\"3d\")\n",
    "    ax.scatter(*peaks.transpose(), c='black', s=10)\n",
    "    ax.scatter(*points.transpose(), c='blue', s=1)"
   ]
  },
  {
   "cell_type": "code",
   "execution_count": 344,
   "metadata": {},
   "outputs": [
    {
     "data": {
      "application/vnd.jupyter.widget-view+json": {
       "model_id": "da155d8a7eab46baa64beea095cdee4a"
      }
     },
     "metadata": {},
     "output_type": "display_data"
    },
    {
     "name": "stderr",
     "output_type": "stream",
     "text": [
      "/home/ric/.local/lib/python3.5/site-packages/ipykernel_launcher.py:17: DeprecationWarning: elementwise == comparison failed; this will raise an error in the future.\n",
      "/home/ric/.local/lib/python3.5/site-packages/ipykernel_launcher.py:30: DeprecationWarning: elementwise == comparison failed; this will raise an error in the future.\n"
     ]
    },
    {
     "ename": "ValueError",
     "evalue": "The truth value of an array with more than one element is ambiguous. Use a.any() or a.all()",
     "output_type": "error",
     "traceback": [
      "\u001b[0;31m---------------------------------------------------------------------------\u001b[0m",
      "\u001b[0;31mValueError\u001b[0m                                Traceback (most recent call last)",
      "\u001b[0;32m<ipython-input-344-a523a13e36d9>\u001b[0m in \u001b[0;36m<module>\u001b[0;34m()\u001b[0m\n\u001b[0;32m----> 1\u001b[0;31m \u001b[0mvisualize\u001b[0m\u001b[0;34m(\u001b[0m\u001b[0mSAMPLE_DATA\u001b[0m\u001b[0;34m.\u001b[0m\u001b[0mtranspose\u001b[0m\u001b[0;34m(\u001b[0m\u001b[0;34m)\u001b[0m\u001b[0;34m,\u001b[0m \u001b[0mr\u001b[0m\u001b[0;34m=\u001b[0m\u001b[0;36m2\u001b[0m\u001b[0;34m,\u001b[0m \u001b[0mfunc\u001b[0m\u001b[0;34m=\u001b[0m\u001b[0mmeanshift_opt\u001b[0m\u001b[0;34m)\u001b[0m\u001b[0;34m\u001b[0m\u001b[0m\n\u001b[0m\u001b[1;32m      2\u001b[0m \u001b[0;31m#visualize_meanshift(cv2.imread())\u001b[0m\u001b[0;34m\u001b[0m\u001b[0;34m\u001b[0m\u001b[0m\n",
      "\u001b[0;32m<ipython-input-339-2de3385a1a37>\u001b[0m in \u001b[0;36mvisualize\u001b[0;34m(image, r, func)\u001b[0m\n\u001b[1;32m      1\u001b[0m \u001b[0;32mdef\u001b[0m \u001b[0mvisualize\u001b[0m\u001b[0;34m(\u001b[0m\u001b[0mimage\u001b[0m\u001b[0;34m,\u001b[0m \u001b[0mr\u001b[0m\u001b[0;34m,\u001b[0m \u001b[0mfunc\u001b[0m\u001b[0;34m)\u001b[0m\u001b[0;34m:\u001b[0m\u001b[0;34m\u001b[0m\u001b[0m\n\u001b[0;32m----> 2\u001b[0;31m     \u001b[0mpeaks\u001b[0m\u001b[0;34m,\u001b[0m \u001b[0mpoints\u001b[0m\u001b[0;34m,\u001b[0m \u001b[0mpoint_peaks\u001b[0m \u001b[0;34m=\u001b[0m \u001b[0mfunc\u001b[0m\u001b[0;34m(\u001b[0m\u001b[0mimage\u001b[0m\u001b[0;34m,\u001b[0m \u001b[0mr\u001b[0m\u001b[0;34m)\u001b[0m\u001b[0;34m\u001b[0m\u001b[0m\n\u001b[0m\u001b[1;32m      3\u001b[0m     \u001b[0mprint\u001b[0m\u001b[0;34m(\u001b[0m\u001b[0;34m\"Found {} peaks in {} points !\"\u001b[0m\u001b[0;34m.\u001b[0m\u001b[0mformat\u001b[0m\u001b[0;34m(\u001b[0m\u001b[0mlen\u001b[0m\u001b[0;34m(\u001b[0m\u001b[0mpeaks\u001b[0m\u001b[0;34m)\u001b[0m\u001b[0;34m,\u001b[0m \u001b[0mlen\u001b[0m\u001b[0;34m(\u001b[0m\u001b[0mpoints\u001b[0m\u001b[0;34m)\u001b[0m\u001b[0;34m,\u001b[0m\u001b[0;34m)\u001b[0m\u001b[0;34m)\u001b[0m\u001b[0;34m\u001b[0m\u001b[0m\n\u001b[1;32m      4\u001b[0m     \u001b[0mfig\u001b[0m \u001b[0;34m=\u001b[0m \u001b[0mplt\u001b[0m\u001b[0;34m.\u001b[0m\u001b[0mfigure\u001b[0m\u001b[0;34m(\u001b[0m\u001b[0mfigsize\u001b[0m\u001b[0;34m=\u001b[0m\u001b[0;34m(\u001b[0m\u001b[0;36m20\u001b[0m\u001b[0;34m,\u001b[0m \u001b[0;36m20\u001b[0m\u001b[0;34m)\u001b[0m\u001b[0;34m)\u001b[0m\u001b[0;34m\u001b[0m\u001b[0m\n\u001b[1;32m      5\u001b[0m     \u001b[0max\u001b[0m \u001b[0;34m=\u001b[0m \u001b[0mfig\u001b[0m\u001b[0;34m.\u001b[0m\u001b[0madd_subplot\u001b[0m\u001b[0;34m(\u001b[0m\u001b[0;36m111\u001b[0m\u001b[0;34m,\u001b[0m \u001b[0mprojection\u001b[0m\u001b[0;34m=\u001b[0m\u001b[0;34m\"3d\"\u001b[0m\u001b[0;34m)\u001b[0m\u001b[0;34m\u001b[0m\u001b[0m\n",
      "\u001b[0;32m<ipython-input-343-efb313aaf755>\u001b[0m in \u001b[0;36mmeanshift_opt\u001b[0;34m(data, r)\u001b[0m\n\u001b[1;32m     28\u001b[0m         \u001b[0;32mfor\u001b[0m \u001b[0mp\u001b[0m \u001b[0;32min\u001b[0m \u001b[0mboa\u001b[0m\u001b[0;34m:\u001b[0m\u001b[0;34m\u001b[0m\u001b[0m\n\u001b[1;32m     29\u001b[0m             \u001b[0midx\u001b[0m \u001b[0;34m=\u001b[0m \u001b[0;36m0\u001b[0m\u001b[0;34m\u001b[0m\u001b[0m\n\u001b[0;32m---> 30\u001b[0;31m             \u001b[0;32mif\u001b[0m \u001b[0;32mnot\u001b[0m \u001b[0many\u001b[0m\u001b[0;34m(\u001b[0m\u001b[0mnp\u001b[0m\u001b[0;34m.\u001b[0m\u001b[0mwhere\u001b[0m\u001b[0;34m(\u001b[0m\u001b[0mpoints\u001b[0m \u001b[0;34m==\u001b[0m \u001b[0mp\u001b[0m\u001b[0;34m)\u001b[0m\u001b[0;34m)\u001b[0m\u001b[0;34m:\u001b[0m\u001b[0;34m\u001b[0m\u001b[0m\n\u001b[0m\u001b[1;32m     31\u001b[0m                 \u001b[0midx\u001b[0m\u001b[0;34m+=\u001b[0m\u001b[0;36m1\u001b[0m\u001b[0;34m\u001b[0m\u001b[0m\n\u001b[1;32m     32\u001b[0m                 \u001b[0mpoints\u001b[0m\u001b[0;34m.\u001b[0m\u001b[0mappend\u001b[0m\u001b[0;34m(\u001b[0m\u001b[0mp\u001b[0m\u001b[0;34m)\u001b[0m\u001b[0;34m\u001b[0m\u001b[0m\n",
      "\u001b[0;31mValueError\u001b[0m: The truth value of an array with more than one element is ambiguous. Use a.any() or a.all()"
     ]
    }
   ],
   "source": [
    "visualize(SAMPLE_DATA.transpose(), r=2, func=meanshift_opt)\n",
    "#visualize_meanshift(cv2.imread())"
   ]
  }
 ],
 "metadata": {
  "kernelspec": {
   "display_name": "Python 3",
   "language": "python",
   "name": "python3"
  },
  "language_info": {
   "codemirror_mode": {
    "name": "ipython",
    "version": 3
   },
   "file_extension": ".py",
   "mimetype": "text/x-python",
   "name": "python",
   "nbconvert_exporter": "python",
   "pygments_lexer": "ipython3",
   "version": "3.5.3"
  }
 },
 "nbformat": 4,
 "nbformat_minor": 2
}
