{
 "cells": [
  {
   "cell_type": "markdown",
   "metadata": {},
   "source": [
    "# Mean Shift\n",
    "#### Basic Implementation\n",
    "The following two functions find_peak and meanshift execute the basic mean shift algorithm."
   ]
  },
  {
   "cell_type": "code",
   "execution_count": 282,
   "metadata": {},
   "outputs": [],
   "source": [
    "import sys\n",
    "import cv2\n",
    "import math\n",
    "import matplotlib.pyplot as plt\n",
    "import matplotlib.pylab as pylab\n",
    "from mpl_toolkits.mplot3d import Axes3D\n",
    "import requests\n",
    "import numpy as np\n",
    "from pathlib import Path\n",
    "from scipy.io import loadmat\n",
    "from scipy import spatial\n",
    "from sklearn.datasets import *\n",
    "from IPython.core.display import clear_output\n",
    "from util import log_progress\n",
    "%matplotlib inline\n",
    "pylab.rcParams['figure.figsize'] = 16, 12\n",
    "sys.setrecursionlimit(10000)"
   ]
  },
  {
   "cell_type": "markdown",
   "metadata": {},
   "source": [
    "##### Load  and visualize sample data\n",
    "The matrix is loaded into a numpy array of dimensions (2000, 3)"
   ]
  },
  {
   "cell_type": "code",
   "execution_count": 283,
   "metadata": {},
   "outputs": [],
   "source": [
    "\"\"\"\n",
    "https://www2.eecs.berkeley.edu/Research/Projects/CS/vision/grouping/segbench/BSDS300/html/dataset/images/color/181091.html\n",
    "https://www2.eecs.berkeley.edu/Research/Projects/CS/vision/grouping/segbench/BSDS300/html/dataset/images/color/55075.html\n",
    "https://www2.eecs.berkeley.edu/Research/Projects/CS/vision/grouping/segbench/BSDS300/html/dataset/images/color/368078.html\n",
    "\"\"\"\n",
    "SAMPLE_DATA = loadmat(\"pts.mat\")['data'].transpose()\n",
    "img_path = Path('images')\n",
    "IMG_A = cv2.imread(str(img_path / \"a.jpg\"))\n",
    "IMG_B = cv2.imread(str(img_path / \"b.jpg\"))\n",
    "IMG_C = cv2.imread(str(img_path / \"c.jpg\"))"
   ]
  },
  {
   "cell_type": "markdown",
   "metadata": {},
   "source": [
    "##### Utility functions\n"
   ]
  },
  {
   "cell_type": "code",
   "execution_count": 284,
   "metadata": {
    "collapsed": true
   },
   "outputs": [],
   "source": [
    "cached_tree = None\n",
    "def get_neighbours(data, point, r):\n",
    "    global cached_tree\n",
    "    tree = spatial.KDTree(data) if cached_tree is None else cached_tree\n",
    "    ret = []\n",
    "    return data[tree.query_ball_point(point, r)]\n",
    "\n",
    "def get_neighbours_cdist(data, point, r):\n",
    "    ret = []\n",
    "    for i, d in enumerate(spatial.distance.cdist(np.array([point]), data)[0]):\n",
    "        if d < r:\n",
    "            ret.append(data[i])\n",
    "    return np.array(ret)"
   ]
  },
  {
   "cell_type": "code",
   "execution_count": 285,
   "metadata": {
    "collapsed": true
   },
   "outputs": [],
   "source": [
    "def find_peak(data, point, r, t = 0.01):\n",
    "    def calc_new_shift(data, point, r):\n",
    "        neighbours = get_neighbours(data, point, r)\n",
    "        return neighbours.mean(axis=0)\n",
    "    \n",
    "    dist = None\n",
    "    last_peak = calc_new_shift(data, point, r)\n",
    "    while dist is None or dist >= t:\n",
    "        peak = calc_new_shift(data, point, r)\n",
    "        dist = spatial.distance.euclidean(peak, last_peak)\n",
    "        last_peak = peak\n",
    "    return peak\n",
    "\n",
    "def meanshift(data, r):\n",
    "    global cached_tree\n",
    "    cached_tree = None\n",
    "    peaks, points, point_peaks = [], [], []\n",
    "    for point in log_progress(data, 1, len(data)):\n",
    "        peak = find_peak(data, point, r)\n",
    "        # Match peak to possible neighbours. Use cdist because we have only few peaks\n",
    "        neighbours = get_neighbours_cdist(np.array(peaks), peak, r/2.) if len(peaks) > 0 else []\n",
    "        if len(neighbours) > 1:\n",
    "            peak = neighbours[0]\n",
    "        else:\n",
    "            peaks.append(peak)\n",
    "        points.append(point)\n",
    "        point_peaks.append(np.where(peaks==peak)[0][0])\n",
    "    return np.array(peaks), np.array(points), np.array(point_peaks)"
   ]
  },
  {
   "cell_type": "code",
   "execution_count": 343,
   "metadata": {},
   "outputs": [],
   "source": [
    "def find_peak_opt(data, point, r, t = 0.01):\n",
    "    def calc_new_shift(data, point, r):\n",
    "        neighbours = get_neighbours(data, point, r)\n",
    "        return neighbours.mean(axis=0)\n",
    "    \n",
    "    dist = None\n",
    "    last_peak = calc_new_shift(data, point, r)\n",
    "    while dist is None or dist >= t:\n",
    "        peak = calc_new_shift(data, point, r)\n",
    "        dist = spatial.distance.euclidean(peak, last_peak)\n",
    "        last_peak = peak\n",
    "    return peak\n",
    "\n",
    "def meanshift_opt(data, r):\n",
    "    global cached_tree\n",
    "    cached_tree = None\n",
    "    peaks, points, point_peaks = [], np.empty((0,3)), []\n",
    "    for point in log_progress(data, 1, len(data)):\n",
    "        if np.any(points == point, axis=1):\n",
    "            continue\n",
    "        peak = find_peak(data, point, r)\n",
    "        # Match peak to possible neighbours. Use cdist because we have only few peaks\n",
    "        neighbours = get_neighbours_cdist(np.array(peaks), peak, r/2.) if len(peaks) > 0 else []\n",
    "        if len(neighbours) > 1:\n",
    "            peak = neighbours[0]\n",
    "        else:\n",
    "            peaks.append(peak)\n",
    "        # Basin of Attraction\n",
    "        peak_idx = np.where(peaks==peak)[0][0]\n",
    "        for p in get_neighbours(data, peak, r):\n",
    "            print(np.any(points == p, axis=1))\n",
    "            if not np.any(points == p, axis=1):\n",
    "                points = np.append(points, [p], axis=0)\n",
    "                point_peaks.append(peak_idx)\n",
    "    return np.array(peaks), np.array(points), np.array(point_peaks)"
   ]
  },
  {
   "cell_type": "code",
   "execution_count": 287,
   "metadata": {},
   "outputs": [],
   "source": [
    "def image_segment(image, r, scale=0.01):\n",
    "    image = cv2.resize(image, None, fx = scale, fy = scale)\n",
    "    orig_img = np.array(image)\n",
    "    image = cv2.GaussianBlur(image, (5,5), 5.0)\n",
    "    image = cv2.cvtColor(image, cv2.COLOR_BGR2LAB)\n",
    "    image = image.reshape(image.shape[0]*image.shape[1], image.shape[2])\n",
    "    peaks, points, point_peaks = meanshift_opt(image, r)\n",
    "    image = image.reshape(image.shape)\n",
    "    print(\"Found {} peaks in {} points !\".format(len(peaks), len(points)))\n",
    "    converted_peaks = cv2.cvtColor(np.array([peaks[:, 0:3]], dtype=np.uint8), cv2.COLOR_LAB2BGR)[0]\n",
    "    im = converted_peaks[point_peaks]\n",
    "    im = im.reshape(orig_img.shape[0], orig_img.shape[1], orig_img.shape[2])\n",
    "    plt.imshow(im)"
   ]
  },
  {
   "cell_type": "markdown",
   "metadata": {},
   "source": [
    "##### Execute the meanshift function\n",
    "Visualize the results"
   ]
  },
  {
   "cell_type": "code",
   "execution_count": 288,
   "metadata": {},
   "outputs": [],
   "source": [
    "def visualize(image, r, func):\n",
    "    peaks, points, point_peaks = func(image, r)\n",
    "    print(\"Found {} peaks in {} points !\".format(len(peaks), len(points)))\n",
    "    fig = plt.figure(figsize=(20, 20))\n",
    "    ax = fig.add_subplot(111, projection=\"3d\")\n",
    "    ax.scatter(*peaks.transpose(), c='black', s=100)\n",
    "    ax.scatter(*points.transpose(), c='blue', s=1)"
   ]
  },
  {
   "cell_type": "code",
   "execution_count": 344,
   "metadata": {},
   "outputs": [
    {
     "data": {
      "application/vnd.jupyter.widget-view+json": {
       "model_id": "05214d6714094cb897a565ea1508104e"
      }
     },
     "metadata": {},
     "output_type": "display_data"
    },
    {
     "name": "stdout",
     "output_type": "stream",
     "text": [
      "[]\n",
      "[ True]\n",
      "[False]\n",
      "[False False]\n"
     ]
    },
    {
     "name": "stderr",
     "output_type": "stream",
     "text": [
      "/home/ric/.local/lib/python3.5/site-packages/scipy/spatial/kdtree.py:291: RuntimeWarning: overflow encountered in ubyte_scalars\n",
      "  split = (maxval+minval)/2\n"
     ]
    },
    {
     "ename": "ValueError",
     "evalue": "The truth value of an array with more than one element is ambiguous. Use a.any() or a.all()",
     "output_type": "error",
     "traceback": [
      "\u001b[0;31m---------------------------------------------------------------------------\u001b[0m",
      "\u001b[0;31mValueError\u001b[0m                                Traceback (most recent call last)",
      "\u001b[0;32m<ipython-input-344-5ab0e7da9a6a>\u001b[0m in \u001b[0;36m<module>\u001b[0;34m()\u001b[0m\n\u001b[1;32m      1\u001b[0m \u001b[0;31m#visualize(SAMPLE_DATA, r=5, func=meanshift_opt)\u001b[0m\u001b[0;34m\u001b[0m\u001b[0;34m\u001b[0m\u001b[0m\n\u001b[0;32m----> 2\u001b[0;31m \u001b[0mimage_segment\u001b[0m\u001b[0;34m(\u001b[0m\u001b[0mIMG_A\u001b[0m\u001b[0;34m,\u001b[0m \u001b[0mr\u001b[0m\u001b[0;34m=\u001b[0m\u001b[0;36m10\u001b[0m\u001b[0;34m)\u001b[0m\u001b[0;34m\u001b[0m\u001b[0m\n\u001b[0m",
      "\u001b[0;32m<ipython-input-287-08ff1d98cd59>\u001b[0m in \u001b[0;36mimage_segment\u001b[0;34m(image, r, scale)\u001b[0m\n\u001b[1;32m      5\u001b[0m     \u001b[0mimage\u001b[0m \u001b[0;34m=\u001b[0m \u001b[0mcv2\u001b[0m\u001b[0;34m.\u001b[0m\u001b[0mcvtColor\u001b[0m\u001b[0;34m(\u001b[0m\u001b[0mimage\u001b[0m\u001b[0;34m,\u001b[0m \u001b[0mcv2\u001b[0m\u001b[0;34m.\u001b[0m\u001b[0mCOLOR_BGR2LAB\u001b[0m\u001b[0;34m)\u001b[0m\u001b[0;34m\u001b[0m\u001b[0m\n\u001b[1;32m      6\u001b[0m     \u001b[0mimage\u001b[0m \u001b[0;34m=\u001b[0m \u001b[0mimage\u001b[0m\u001b[0;34m.\u001b[0m\u001b[0mreshape\u001b[0m\u001b[0;34m(\u001b[0m\u001b[0mimage\u001b[0m\u001b[0;34m.\u001b[0m\u001b[0mshape\u001b[0m\u001b[0;34m[\u001b[0m\u001b[0;36m0\u001b[0m\u001b[0;34m]\u001b[0m\u001b[0;34m*\u001b[0m\u001b[0mimage\u001b[0m\u001b[0;34m.\u001b[0m\u001b[0mshape\u001b[0m\u001b[0;34m[\u001b[0m\u001b[0;36m1\u001b[0m\u001b[0;34m]\u001b[0m\u001b[0;34m,\u001b[0m \u001b[0mimage\u001b[0m\u001b[0;34m.\u001b[0m\u001b[0mshape\u001b[0m\u001b[0;34m[\u001b[0m\u001b[0;36m2\u001b[0m\u001b[0;34m]\u001b[0m\u001b[0;34m)\u001b[0m\u001b[0;34m\u001b[0m\u001b[0m\n\u001b[0;32m----> 7\u001b[0;31m     \u001b[0mpeaks\u001b[0m\u001b[0;34m,\u001b[0m \u001b[0mpoints\u001b[0m\u001b[0;34m,\u001b[0m \u001b[0mpoint_peaks\u001b[0m \u001b[0;34m=\u001b[0m \u001b[0mmeanshift_opt\u001b[0m\u001b[0;34m(\u001b[0m\u001b[0mimage\u001b[0m\u001b[0;34m,\u001b[0m \u001b[0mr\u001b[0m\u001b[0;34m)\u001b[0m\u001b[0;34m\u001b[0m\u001b[0m\n\u001b[0m\u001b[1;32m      8\u001b[0m     \u001b[0mimage\u001b[0m \u001b[0;34m=\u001b[0m \u001b[0mimage\u001b[0m\u001b[0;34m.\u001b[0m\u001b[0mreshape\u001b[0m\u001b[0;34m(\u001b[0m\u001b[0mimage\u001b[0m\u001b[0;34m.\u001b[0m\u001b[0mshape\u001b[0m\u001b[0;34m)\u001b[0m\u001b[0;34m\u001b[0m\u001b[0m\n\u001b[1;32m      9\u001b[0m     \u001b[0mprint\u001b[0m\u001b[0;34m(\u001b[0m\u001b[0;34m\"Found {} peaks in {} points !\"\u001b[0m\u001b[0;34m.\u001b[0m\u001b[0mformat\u001b[0m\u001b[0;34m(\u001b[0m\u001b[0mlen\u001b[0m\u001b[0;34m(\u001b[0m\u001b[0mpeaks\u001b[0m\u001b[0;34m)\u001b[0m\u001b[0;34m,\u001b[0m \u001b[0mlen\u001b[0m\u001b[0;34m(\u001b[0m\u001b[0mpoints\u001b[0m\u001b[0;34m)\u001b[0m\u001b[0;34m)\u001b[0m\u001b[0;34m)\u001b[0m\u001b[0;34m\u001b[0m\u001b[0m\n",
      "\u001b[0;32m<ipython-input-343-a1b4057b2176>\u001b[0m in \u001b[0;36mmeanshift_opt\u001b[0;34m(data, r)\u001b[0m\n\u001b[1;32m     30\u001b[0m         \u001b[0;32mfor\u001b[0m \u001b[0mp\u001b[0m \u001b[0;32min\u001b[0m \u001b[0mget_neighbours\u001b[0m\u001b[0;34m(\u001b[0m\u001b[0mdata\u001b[0m\u001b[0;34m,\u001b[0m \u001b[0mpeak\u001b[0m\u001b[0;34m,\u001b[0m \u001b[0mr\u001b[0m\u001b[0;34m)\u001b[0m\u001b[0;34m:\u001b[0m\u001b[0;34m\u001b[0m\u001b[0m\n\u001b[1;32m     31\u001b[0m             \u001b[0mprint\u001b[0m\u001b[0;34m(\u001b[0m\u001b[0mnp\u001b[0m\u001b[0;34m.\u001b[0m\u001b[0many\u001b[0m\u001b[0;34m(\u001b[0m\u001b[0mpoints\u001b[0m \u001b[0;34m==\u001b[0m \u001b[0mp\u001b[0m\u001b[0;34m,\u001b[0m \u001b[0maxis\u001b[0m\u001b[0;34m=\u001b[0m\u001b[0;36m1\u001b[0m\u001b[0;34m)\u001b[0m\u001b[0;34m)\u001b[0m\u001b[0;34m\u001b[0m\u001b[0m\n\u001b[0;32m---> 32\u001b[0;31m             \u001b[0;32mif\u001b[0m \u001b[0;32mnot\u001b[0m \u001b[0mnp\u001b[0m\u001b[0;34m.\u001b[0m\u001b[0many\u001b[0m\u001b[0;34m(\u001b[0m\u001b[0mpoints\u001b[0m \u001b[0;34m==\u001b[0m \u001b[0mp\u001b[0m\u001b[0;34m,\u001b[0m \u001b[0maxis\u001b[0m\u001b[0;34m=\u001b[0m\u001b[0;36m1\u001b[0m\u001b[0;34m)\u001b[0m\u001b[0;34m:\u001b[0m\u001b[0;34m\u001b[0m\u001b[0m\n\u001b[0m\u001b[1;32m     33\u001b[0m                 \u001b[0mpoints\u001b[0m \u001b[0;34m=\u001b[0m \u001b[0mnp\u001b[0m\u001b[0;34m.\u001b[0m\u001b[0mappend\u001b[0m\u001b[0;34m(\u001b[0m\u001b[0mpoints\u001b[0m\u001b[0;34m,\u001b[0m \u001b[0;34m[\u001b[0m\u001b[0mp\u001b[0m\u001b[0;34m]\u001b[0m\u001b[0;34m,\u001b[0m \u001b[0maxis\u001b[0m\u001b[0;34m=\u001b[0m\u001b[0;36m0\u001b[0m\u001b[0;34m)\u001b[0m\u001b[0;34m\u001b[0m\u001b[0m\n\u001b[1;32m     34\u001b[0m                 \u001b[0mpoint_peaks\u001b[0m\u001b[0;34m.\u001b[0m\u001b[0mappend\u001b[0m\u001b[0;34m(\u001b[0m\u001b[0mpeak_idx\u001b[0m\u001b[0;34m)\u001b[0m\u001b[0;34m\u001b[0m\u001b[0m\n",
      "\u001b[0;31mValueError\u001b[0m: The truth value of an array with more than one element is ambiguous. Use a.any() or a.all()"
     ]
    }
   ],
   "source": [
    "#visualize(SAMPLE_DATA, r=5, func=meanshift_opt)\n",
    "image_segment(IMG_A, r=10)"
   ]
  }
 ],
 "metadata": {
  "kernelspec": {
   "display_name": "Python 3",
   "language": "python",
   "name": "python3"
  },
  "language_info": {
   "codemirror_mode": {
    "name": "ipython",
    "version": 3
   },
   "file_extension": ".py",
   "mimetype": "text/x-python",
   "name": "python",
   "nbconvert_exporter": "python",
   "pygments_lexer": "ipython3",
   "version": "3.5.3"
  }
 },
 "nbformat": 4,
 "nbformat_minor": 2
}
