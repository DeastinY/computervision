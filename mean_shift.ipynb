{
 "cells": [
  {
   "cell_type": "markdown",
   "metadata": {},
   "source": [
    "# Mean Shift\n",
    "#### Basic Implementation\n",
    "The following two functions find_peak and meanshift execute the basic mean shift algorithm."
   ]
  },
  {
   "cell_type": "code",
   "execution_count": 10,
   "metadata": {
    "collapsed": true
   },
   "outputs": [],
   "source": [
    "import sys\n",
    "import cv2\n",
    "import math\n",
    "import matplotlib.pyplot as plt\n",
    "import matplotlib.pylab as pylab\n",
    "from mpl_toolkits.mplot3d import Axes3D\n",
    "import requests\n",
    "import numpy as np\n",
    "from pathlib import Path\n",
    "from scipy.io import loadmat\n",
    "from scipy import spatial\n",
    "from sklearn.datasets import *\n",
    "from IPython.core.display import clear_output\n",
    "from util import log_progress\n",
    "%matplotlib inline\n",
    "pylab.rcParams['figure.figsize'] = 16, 12\n",
    "sys.setrecursionlimit(10000)"
   ]
  },
  {
   "cell_type": "markdown",
   "metadata": {},
   "source": [
    "##### Load  and visualize sample data\n",
    "The matrix is loaded into a numpy array of dimensions (2000, 3)"
   ]
  },
  {
   "cell_type": "code",
   "execution_count": 11,
   "metadata": {
    "collapsed": true
   },
   "outputs": [],
   "source": [
    "\"\"\"\n",
    "https://www2.eecs.berkeley.edu/Research/Projects/CS/vision/grouping/segbench/BSDS300/html/dataset/images/color/181091.html\n",
    "https://www2.eecs.berkeley.edu/Research/Projects/CS/vision/grouping/segbench/BSDS300/html/dataset/images/color/55075.html\n",
    "https://www2.eecs.berkeley.edu/Research/Projects/CS/vision/grouping/segbench/BSDS300/html/dataset/images/color/368078.html\n",
    "\"\"\"\n",
    "SAMPLE_DATA = loadmat(\"pts.mat\")['data'].transpose()\n",
    "img_path = Path('images')\n",
    "IMG_A = cv2.imread(str(img_path / \"a.jpg\"))\n",
    "IMG_B = cv2.imread(str(img_path / \"b.jpg\"))\n",
    "IMG_C = cv2.imread(str(img_path / \"c.jpg\"))"
   ]
  },
  {
   "cell_type": "markdown",
   "metadata": {},
   "source": [
    "##### Utility functions\n"
   ]
  },
  {
   "cell_type": "code",
   "execution_count": 12,
   "metadata": {
    "collapsed": true
   },
   "outputs": [],
   "source": [
    "cached_tree = None\n",
    "def get_neighbours(data, point, r):\n",
    "    global cached_tree\n",
    "    cached_tree = spatial.cKDTree(data) if cached_tree is None else cached_tree\n",
    "    return cached_tree.query_ball_point(point, r)\n",
    "\n",
    "def get_neighbours_cdist(data, point, r):\n",
    "    distances = spatial.distance.cdist(np.array([point]), data)[0]\n",
    "    return data[np.where(distances < r)]"
   ]
  },
  {
   "cell_type": "code",
   "execution_count": 13,
   "metadata": {
    "collapsed": true
   },
   "outputs": [],
   "source": [
    "def find_peak(data, point, r, t = 0.01):\n",
    "    def calc_new_shift(data, point, r):\n",
    "        return data[get_neighbours(data, point, r)].mean(axis=0)\n",
    "    \n",
    "    dist = t\n",
    "    while dist >= t:\n",
    "        peak = calc_new_shift(data, point, r)\n",
    "        dist = spatial.distance.euclidean(peak, point)\n",
    "        point = peak\n",
    "    return peak\n",
    "\n",
    "def meanshift(data, r):\n",
    "    peaks, points, point_peaks = [], [], []\n",
    "    for point in log_progress(data, 1, len(data)):\n",
    "        peak = find_peak(data, point, r)\n",
    "        # Match peak to possible neighbours. Use cdist because we have only few peaks\n",
    "        neighbours = get_neighbours_cdist(np.array(peaks), peak, r/2.) if len(peaks) > 0 else []\n",
    "        if len(neighbours) > 1:\n",
    "            peak = neighbours[0]\n",
    "        else:\n",
    "            peaks.append(peak)\n",
    "        points.append(point)\n",
    "        point_peaks.append(np.where(peaks==peak)[0][0])\n",
    "    return np.array(peaks), np.array(points), np.array(point_peaks)"
   ]
  },
  {
   "cell_type": "code",
   "execution_count": 14,
   "metadata": {},
   "outputs": [
    {
     "ename": "SyntaxError",
     "evalue": "invalid syntax (<ipython-input-14-4e93207faf14>, line 14)",
     "output_type": "error",
     "traceback": [
      "\u001b[0;36m  File \u001b[0;32m\"<ipython-input-14-4e93207faf14>\"\u001b[0;36m, line \u001b[0;32m14\u001b[0m\n\u001b[0;31m    def meanshift_opt(data, r):\u001b[0m\n\u001b[0m      ^\u001b[0m\n\u001b[0;31mSyntaxError\u001b[0m\u001b[0;31m:\u001b[0m invalid syntax\n"
     ]
    }
   ],
   "source": [
    "def find_peak_opt(data, point, r, c=4.0, t=0.01):\n",
    "    def calc_new_shift(data, point, r):\n",
    "        return data[get_neighbours(data, point, r)].mean(axis=0)\n",
    "    \n",
    "    dist = t\n",
    "    cpts = []\n",
    "    while dist >= t:\n",
    "        peak = calc_new_shift(data, point, r)\n",
    "        dist = spatial.distance.euclidean(peak, point)\n",
    "        cpts.extend(get_neighbours(data, point, r/c))\n",
    "        point = peak\n",
    "    return peak, list(set(cpts))\n",
    "\n",
    "def meanshift_opt(data, r):\n",
    "    peaks, point_peaks = [], np.zeros(data.shape[0], dtype='int16')-1\n",
    "    for i, point in log_progress(enumerate(data), every=1, size=len(data)):\n",
    "        if point_peaks[i] != -1:\n",
    "            continue\n",
    "        peak, cpts = find_peak_opt(data, point, r)\n",
    "        # Match peak to possible neighbours. Use cdist because we have only few peaks\n",
    "        peak_neighbours = get_neighbours_cdist(np.array(peaks), peak, r/2.) if len(peaks) > 0 else []\n",
    "        if len(peak_neighbours) > 1:\n",
    "            peak = data[neighbours][0]\n",
    "        else:\n",
    "            peaks.append(peak)\n",
    "        # Basin of Attraction\n",
    "        peak_id = np.where(peaks == peak)[0]\n",
    "        neighbours = get_neighbours(data, peak, r)\n",
    "        point_peaks[neighbours] = peak_id\n",
    "        point_peaks[cpts] = peak_id\n",
    "    return np.array(peaks), point_peaks"
   ]
  },
  {
   "cell_type": "code",
   "execution_count": null,
   "metadata": {
    "collapsed": true
   },
   "outputs": [],
   "source": [
    "def image_segment(image, r, scale=0.5):\n",
    "    # preprocess the image\n",
    "    image = cv2.resize(image, None, fx = scale, fy = scale)\n",
    "    orig_image = np.array(image)\n",
    "    image = cv2.GaussianBlur(image, (5,5), 5.0)\n",
    "    image = cv2.cvtColor(image, cv2.COLOR_BGR2LAB)\n",
    "    image = image.reshape(image.shape[0]*image.shape[1], image.shape[2])\n",
    "    print(\"Image has {} points\".format(image.shape))\n",
    "    peaks, point_peaks = meanshift_opt(image, r)\n",
    "    print(\"Found {} peaks !\".format(len(peaks)))\n",
    "    # convert back to show format\n",
    "    converted_peaks = cv2.cvtColor(np.array([peaks[:, 0:3]], dtype=np.uint8), cv2.COLOR_LAB2BGR)[0]\n",
    "    image = converted_peaks[point_peaks]\n",
    "    image = image.reshape(*orig_image.shape)\n",
    "    plt.imshow(image)\n",
    "    plt.imshow(orig_image)"
   ]
  },
  {
   "cell_type": "markdown",
   "metadata": {},
   "source": [
    "##### Execute the meanshift function\n",
    "Visualize the results"
   ]
  },
  {
   "cell_type": "code",
   "execution_count": null,
   "metadata": {
    "collapsed": true
   },
   "outputs": [],
   "source": [
    "def visualize(image, r, func):\n",
    "    peaks, _ = func(image, r)\n",
    "    print(\"Found {} peaks in {} points !\".format(len(peaks), image.shape))\n",
    "    fig = plt.figure(figsize=(20, 20))\n",
    "    ax = fig.add_subplot(111, projection=\"3d\")\n",
    "    ax.scatter(*peaks.transpose(), c='black', s=100)\n",
    "    ax.scatter(*image.transpose(), c='blue', s=1)"
   ]
  },
  {
   "cell_type": "code",
   "execution_count": null,
   "metadata": {},
   "outputs": [],
   "source": [
    "#visualize(SAMPLE_DATA, r=5, func=meanshift_opt)\n",
    "image_segment(IMG_A, r=15)"
   ]
  }
 ],
 "metadata": {
  "kernelspec": {
   "display_name": "Python 3",
   "language": "python",
   "name": "python3"
  },
  "language_info": {
   "codemirror_mode": {
    "name": "ipython",
    "version": 3
   },
   "file_extension": ".py",
   "mimetype": "text/x-python",
   "name": "python",
   "nbconvert_exporter": "python",
   "pygments_lexer": "ipython3",
   "version": "3.5.3"
  }
 },
 "nbformat": 4,
 "nbformat_minor": 2
}
